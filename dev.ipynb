{
 "cells": [
  {
   "cell_type": "code",
   "execution_count": null,
   "id": "3757dea1",
   "metadata": {},
   "outputs": [],
   "source": [
    "\n",
    "\n",
    "# Add this after coordinate generation to test specific coordinates:\n",
    "if abs(lat - 40.02539291498686) < 0.01 and abs(lon - (-93.44576342472955)) < 0.01:\n",
    "    print(f\"    🎯 Found target coordinate! {lat:.6f}, {lon:.6f}\")\n",
    "    print(f\"    Urban area match: {is_inside_urban_area(lat, lon, urban_areas)}\")\n",
    "    print(f\"    Expected for rural: False\")"
   ]
  }
 ],
 "metadata": {
  "kernelspec": {
   "display_name": "cvg",
   "language": "python",
   "name": "python3"
  },
  "language_info": {
   "name": "python",
   "version": "3.12.11"
  }
 },
 "nbformat": 4,
 "nbformat_minor": 5
}
